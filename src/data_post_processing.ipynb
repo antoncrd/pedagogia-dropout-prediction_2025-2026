{
 "cells": [
  {
   "cell_type": "code",
   "execution_count": null,
   "id": "4a058f8c",
   "metadata": {},
   "outputs": [],
   "source": [
    "import pandas as pd\n",
    "from pathlib import Path\n",
    "import os\n",
    "import joblib\n",
    "import numpy as np\n",
    "from mapie.metrics import (\n",
    "    classification_coverage_score,\n",
    "    classification_mean_width_score\n",
    ")\n",
    "import re\n",
    "import matplotlib.pyplot as plt\n",
    "from utils.model_production_data_processing_utils import cluster_with_min_size\n",
    "import umap\n",
    "\n",
    "root = Path(os.getcwd()).parent"
   ]
  },
  {
   "cell_type": "code",
   "execution_count": null,
   "id": "d001919c",
   "metadata": {},
   "outputs": [],
   "source": [
    "from model_production_main import load_and_preprocess_data, prepare_features\n",
    "from utils.model_production_data_processing_utils import build_X_s, build_umap_windows_by_suffix"
   ]
  },
  {
   "cell_type": "code",
   "execution_count": null,
   "id": "355148d5",
   "metadata": {},
   "outputs": [],
   "source": [
    "from sklearn.cluster import KMeans\n",
    "\n",
    "\n",
    "def compute_threshold_kmeans(\n",
    "    df: pd.DataFrame,\n",
    "    *,\n",
    "    n_rendus: int = 3,\n",
    "    min_prop: float = 0.5,\n",
    "    max_prop: float = 1.0,\n",
    "    n_grid: int = 100,\n",
    "    min_dropout_pct: float = 20.0,\n",
    "    random_state: int = 0\n",
    ") -> float:\n",
    "    \"\"\"\n",
    "    Calcule un seuil (threshold) à partir des dernières notes non nulles via un KMeans (k=2),\n",
    "    puis balaye une grille de proportions pour maximiser la variation de la proportion binaire\n",
    "    entre deux pas successifs.\n",
    "\n",
    "    Paramètres\n",
    "    ----------\n",
    "    df : DataFrame\n",
    "        Doit contenir des colonnes se terminant par 'mark'.\n",
    "    n_rendus : int\n",
    "        Nombre de notes non nulles les plus récentes à considérer (on prend la plus récente parmi elles).\n",
    "    min_prop, max_prop : float\n",
    "        Plage des coefficients appliqués au plus petit centre KMeans (min(centers)).\n",
    "    n_grid : int\n",
    "        Taille de la grille linéaire entre min_prop et max_prop.\n",
    "    min_dropout_pct : float\n",
    "        Si la proportion de Y_TARGET (dropout) < ce pourcentage, on recule d’un cran (prop courante).\n",
    "    random_state : int\n",
    "        Graine pour KMeans.\n",
    "\n",
    "    Retour\n",
    "    ------\n",
    "    float\n",
    "        Le threshold choisi.\n",
    "    \"\"\"\n",
    "\n",
    "    # 1) Préparation des données\n",
    "    df0 = df.copy().fillna(0)\n",
    "    mark_cols = [c for c in df0.columns if c.endswith(\"mark\")]\n",
    "    if not mark_cols:\n",
    "        raise ValueError(\"Aucune colonne se terminant par 'mark' trouvée.\")\n",
    "\n",
    "    # On inverse pour parcourir des colonnes de la plus récente à la plus ancienne (si votre ordre est encodé dans les noms)\n",
    "    mark_cols = mark_cols[::-1]\n",
    "\n",
    "    # 2) Récupérer pour chaque ligne la/les dernière(s) notes non nulles\n",
    "    def last_marks(row):\n",
    "        vals = []\n",
    "        for c in mark_cols:\n",
    "            v = row[c]\n",
    "            if v > 0:\n",
    "                vals.append(v)\n",
    "                if len(vals) == n_rendus:\n",
    "                    break\n",
    "        return pd.Series({\"last_vals\": vals})\n",
    "\n",
    "    tmp = df0.apply(last_marks, axis=1)\n",
    "    df0[\"last_vals\"] = tmp[\"last_vals\"]\n",
    "    # on prend la plus récente parmi les n_rendus collectés (index 0), sinon 0 si aucun\n",
    "    df0[\"lastvals\"] = df0[\"last_vals\"].apply(lambda vs: vs[0] if len(vs) > 0 else 0.0).astype(float)\n",
    "\n",
    "    x = df0[\"lastvals\"].to_numpy(dtype=float)\n",
    "\n",
    "    # 3) KMeans en 2 clusters\n",
    "    X = x.reshape(-1, 1)\n",
    "    kmeans = KMeans(n_clusters=2, random_state=random_state).fit(X)\n",
    "    centers = kmeans.cluster_centers_.flatten()\n",
    "    low_center = float(np.min(centers))\n",
    "\n",
    "    # 4) Balayage de la grille et sélection du meilleur \"saut\" de proportion\n",
    "    props = np.linspace(min_prop, max_prop, n_grid)\n",
    "    best_ec = -np.inf\n",
    "    best_prop_prev = None\n",
    "    best_prop_curr = None\n",
    "\n",
    "    prev_mean = None\n",
    "    for i, prop in enumerate(props):\n",
    "        threshold_tmp = low_center * prop\n",
    "        y_all = (x < threshold_tmp).astype(int)\n",
    "        current_mean = float(y_all.mean())\n",
    "\n",
    "        if i > 0:  # on peut mesurer l'écart avec l'itération précédente\n",
    "            ec = abs(current_mean - prev_mean)\n",
    "            if ec > best_ec:\n",
    "                best_ec = ec\n",
    "                best_prop_curr = prop           # prop à l'instant i\n",
    "                best_prop_prev = props[i - 1]   # prop à l’instant i-1\n",
    "        prev_mean = current_mean\n",
    "\n",
    "    # Sécurités si la grille a une seule valeur ou si rien n'a été mis à jour\n",
    "    if best_prop_prev is None or best_prop_curr is None:\n",
    "        # fallback : prendre la première prop\n",
    "        best_prop_prev = props[0]\n",
    "        best_prop_curr = props[min(1, len(props) - 1)]\n",
    "\n",
    "    # 5) Choix final du threshold + contrainte min_dropout_pct\n",
    "    threshold = low_center * best_prop_prev\n",
    "    y_target = (x < threshold).astype(int)\n",
    "    if (y_target.mean() * 100.0) < min_dropout_pct:\n",
    "        threshold = low_center * best_prop_curr\n",
    "    y_target = (x < threshold).astype(int)\n",
    "    print(y_target.mean() * 100.0)\n",
    "    return float(threshold), (y_target.mean() * 100.0)\n"
   ]
  },
  {
   "cell_type": "code",
   "execution_count": null,
   "id": "1ea108f7",
   "metadata": {},
   "outputs": [],
   "source": [
    "df22 = pd.read_csv(root /\"data/DATA_2022.csv\")\n",
    "df22.shape"
   ]
  },
  {
   "cell_type": "code",
   "execution_count": null,
   "id": "3ba646f4",
   "metadata": {},
   "outputs": [],
   "source": [
    "df23 = pd.read_csv(root /\"data/DATA_2023.csv\")\n",
    "df23.shape"
   ]
  },
  {
   "cell_type": "code",
   "execution_count": null,
   "id": "2ea08dd2",
   "metadata": {},
   "outputs": [],
   "source": [
    "df24 = pd.read_csv(root / \"data/DATA_2024.csv\")\n",
    "df24.shape"
   ]
  },
  {
   "cell_type": "code",
   "execution_count": null,
   "id": "21d64928",
   "metadata": {},
   "outputs": [],
   "source": [
    "df25 = pd.read_csv(root / \"data/DATA_2025.csv\")\n",
    "df25.shape"
   ]
  },
  {
   "cell_type": "code",
   "execution_count": null,
   "id": "61561416",
   "metadata": {},
   "outputs": [],
   "source": [
    "df25"
   ]
  },
  {
   "cell_type": "code",
   "execution_count": null,
   "id": "d2e5ad8d",
   "metadata": {},
   "outputs": [],
   "source": [
    "df2022 = load_and_preprocess_data(root / \"data/DATA_2022.csv\", 22)\n",
    "threshold = compute_threshold_kmeans(df2022)\n",
    "threshold"
   ]
  },
  {
   "cell_type": "code",
   "execution_count": null,
   "id": "c499c4be",
   "metadata": {},
   "outputs": [],
   "source": [
    "df2023 = load_and_preprocess_data(root / \"data/DATA_2023.csv\", 23)\n",
    "threshold = compute_threshold_kmeans(df2023)\n",
    "threshold"
   ]
  },
  {
   "cell_type": "code",
   "execution_count": null,
   "id": "440a08d6",
   "metadata": {},
   "outputs": [],
   "source": [
    "df2024 = load_and_preprocess_data(root / \"data/DATA_2024.csv\", 24)\n",
    "threshold = compute_threshold_kmeans(df2024)\n",
    "threshold"
   ]
  },
  {
   "cell_type": "code",
   "execution_count": null,
   "id": "228b20dd",
   "metadata": {},
   "outputs": [],
   "source": [
    "common_cols = df22.columns.intersection(df23.columns).intersection(df24.columns)\n",
    "\n",
    "# Concat verticale sur les colonnes communes\n",
    "df_all = pd.concat(\n",
    "    [df22[common_cols], df23[common_cols], df24[common_cols]],\n",
    "    axis=0,\n",
    "    ignore_index=True\n",
    ")\n",
    "\n",
    "mark_cols = [c for c in df_all.columns if c.endswith(\"mark\")]\n",
    "df_all[mark_cols] = df_all[mark_cols].div(df_all[mark_cols].mean())\n",
    "threshold = compute_threshold_kmeans(df_all)\n",
    "threshold"
   ]
  },
  {
   "cell_type": "code",
   "execution_count": null,
   "id": "acd1e027",
   "metadata": {},
   "outputs": [],
   "source": [
    "df_all "
   ]
  },
  {
   "cell_type": "code",
   "execution_count": null,
   "id": "aeac2da4",
   "metadata": {},
   "outputs": [],
   "source": [
    "df24 = pd.read_csv(root / \"data/DATA_2024.csv\")\n",
    "df24.shape"
   ]
  },
  {
   "cell_type": "code",
   "execution_count": null,
   "id": "aa005c30",
   "metadata": {},
   "outputs": [],
   "source": [
    "[c for c in df22.columns if c.startswith('B-CPE-110')]"
   ]
  },
  {
   "cell_type": "code",
   "execution_count": null,
   "id": "637d14d5",
   "metadata": {},
   "outputs": [],
   "source": [
    "cols_only_df1 = df23.columns.difference(df22.columns)\n",
    "cols_only_df1"
   ]
  },
  {
   "cell_type": "code",
   "execution_count": null,
   "id": "e2fa51b2",
   "metadata": {},
   "outputs": [],
   "source": [
    "[c for c in cols_only_df1 if c.startswith('B-CPE-100')]"
   ]
  },
  {
   "cell_type": "code",
   "execution_count": null,
   "id": "a96f5fb5",
   "metadata": {},
   "outputs": [],
   "source": [
    "common_cols = df22.columns.intersection(df23.columns)\n",
    "common_cols.shape"
   ]
  },
  {
   "cell_type": "code",
   "execution_count": null,
   "id": "ca25f46b",
   "metadata": {},
   "outputs": [],
   "source": [
    "nb_nan_par_ligne = df22.isna().sum(axis=1)\n",
    "# df22 = df22[nb_nan_par_ligne < 356]\n",
    "nb_nan_par_ligne.sort_values().tail(10)"
   ]
  },
  {
   "cell_type": "code",
   "execution_count": null,
   "id": "74a801fa",
   "metadata": {},
   "outputs": [],
   "source": [
    "nb_nan_par_ligne = df23.isna().sum(axis=1)\n",
    "# df23 = df23[nb_nan_par_ligne < 356]\n",
    "print(df23.shape, nb_nan_par_ligne.sort_values().tail(20))"
   ]
  },
  {
   "cell_type": "code",
   "execution_count": null,
   "id": "a9b03862",
   "metadata": {},
   "outputs": [],
   "source": [
    "nb_nan_par_ligne = df23.isna().sum(axis=1)\n",
    "# df22 = df22[nb_nan_par_ligne < 356]\n",
    "nb_nan_par_ligne.sort_values().tail(10)"
   ]
  }
 ],
 "metadata": {
  "kernelspec": {
   "display_name": "base",
   "language": "python",
   "name": "python3"
  },
  "language_info": {
   "codemirror_mode": {
    "name": "ipython",
    "version": 3
   },
   "file_extension": ".py",
   "mimetype": "text/x-python",
   "name": "python",
   "nbconvert_exporter": "python",
   "pygments_lexer": "ipython3",
   "version": "3.12.7"
  }
 },
 "nbformat": 4,
 "nbformat_minor": 5
}
