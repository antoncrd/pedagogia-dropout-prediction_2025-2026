{
 "cells": [
  {
   "cell_type": "code",
   "execution_count": null,
   "id": "9ae3afca",
   "metadata": {},
   "outputs": [],
   "source": [
    "import pandas as pd\n",
    "from pathlib import Path\n",
    "import os\n",
    "import joblib\n",
    "import numpy as np\n",
    "from mapie.metrics import (\n",
    "    classification_coverage_score,\n",
    "    classification_mean_width_score\n",
    ")\n",
    "import re\n",
    "import matplotlib.pyplot as plt\n",
    "from utils.model_production_data_processing_utils import cluster_with_min_size\n",
    "import umap\n",
    "\n",
    "root = Path(os.getcwd()).parent"
   ]
  },
  {
   "cell_type": "code",
   "execution_count": null,
   "id": "8f047847",
   "metadata": {},
   "outputs": [],
   "source": [
    "from model_production_main import load_and_preprocess_data, prepare_features\n",
    "from utils.model_production_data_processing_utils import compute_threshold_kmeans, build_X_s, build_umap_windows_by_suffix"
   ]
  },
  {
   "cell_type": "code",
   "execution_count": null,
   "id": "63c2a1fd",
   "metadata": {},
   "outputs": [],
   "source": [
    "df25 = "
   ]
  },
  {
   "cell_type": "code",
   "execution_count": null,
   "id": "fd9ce5ed",
   "metadata": {},
   "outputs": [],
   "source": [
    "df3 = pd.read_csv(root /\"data/DATA_SPCI_ng_24.csv\")"
   ]
  },
  {
   "cell_type": "code",
   "execution_count": null,
   "id": "4a58a3b5",
   "metadata": {},
   "outputs": [],
   "source": [
    "[c for c in df3.columns if c.endswith('grade')]"
   ]
  },
  {
   "cell_type": "code",
   "execution_count": null,
   "id": "8dd6a233",
   "metadata": {},
   "outputs": [],
   "source": [
    "cols = df3.drop(columns=[\"email\", \"source\", \"clusters\"]).columns.to_series()\n",
    "w1 = 3\n",
    "suffixes = cols.apply(lambda x: x.split(\"_\")[1])\n",
    "ordered_suffixes = suffixes.unique()\n",
    "prefixes2 = (\n",
    "    df3.drop(columns=[\"email\"])\n",
    "    .columns.str.split(\"_\")\n",
    "    .str[:2]\n",
    "    .str.join(\"_\")\n",
    "    .unique()[w1 - 1 :][::-1]\n",
    ")\n",
    "change_points = [\n",
    "    i for i in range(len(cols) - 1) if suffixes[i] != suffixes[i + 1]\n",
    "][::-1]"
   ]
  },
  {
   "cell_type": "code",
   "execution_count": null,
   "id": "7c7ed471",
   "metadata": {},
   "outputs": [],
   "source": [
    "mark_cols = [c for c in df3.columns if c.endswith(\"mark\")]\n",
    "prefixes = list(dict.fromkeys(c.rsplit(\"_\",1)[0] for c in mark_cols))\n",
    "dyn_cols = [\n",
    "        col for col in df3.columns\n",
    "        if any(col.startswith(pref) for pref in prefixes[:11])\n",
    "        ]\n",
    "dyn_cols"
   ]
  },
  {
   "cell_type": "code",
   "execution_count": null,
   "id": "5ffbe183",
   "metadata": {},
   "outputs": [],
   "source": [
    "df_ = pd.read_csv(root / \"data/DATA.csv\")\n",
    "df = df_.copy()\n",
    "nb_nan_par_ligne = df.isna().sum(axis=1)\n",
    "df0 = df[nb_nan_par_ligne < 495]"
   ]
  },
  {
   "cell_type": "code",
   "execution_count": null,
   "id": "264249af",
   "metadata": {},
   "outputs": [],
   "source": [
    "df0.shape"
   ]
  },
  {
   "cell_type": "code",
   "execution_count": null,
   "id": "67fb6133",
   "metadata": {},
   "outputs": [],
   "source": [
    "df0"
   ]
  },
  {
   "cell_type": "code",
   "execution_count": null,
   "id": "dcb306b5",
   "metadata": {},
   "outputs": [],
   "source": [
    "dfcpool = df0[[c for c in df0.columns if c.startswith(\"B-CPE-100\")]]\n",
    "pat = re.compile(r\"B-CPE-100_cpoolday\\d+_\\d{2} - task\\d+_passed\")\n",
    "cols_keep = [c for c in dfcpool.columns if not pat.match(c)]\n",
    "dfcpool_mark = dfcpool[cols_keep]\n",
    "X = dfcpool_mark.fillna(0)\n",
    "ta = [c for c in X.columns if c.endswith('passed')]\n",
    "X_bin = X[ta]\n"
   ]
  },
  {
   "cell_type": "code",
   "execution_count": null,
   "id": "6f6bf891",
   "metadata": {},
   "outputs": [],
   "source": [
    "from sklearn.cluster import KMeans"
   ]
  },
  {
   "cell_type": "code",
   "execution_count": null,
   "id": "c2a843ab",
   "metadata": {},
   "outputs": [],
   "source": [
    "reducer = umap.UMAP(\n",
    "    n_neighbors=8,          # ↓ pour plus local\n",
    "    min_dist=0.25,          # ↑ étale un peu les amas\n",
    "    spread=1.0,\n",
    "    n_components=2,\n",
    "    metric=\"hamming\",\n",
    "    random_state=42,\n",
    ")\n",
    "emb = reducer.fit_transform(X_bin)\n",
    "\n",
    "K = 8\n",
    "labels = KMeans(n_clusters=4, n_init=\"auto\", random_state=42).fit_predict(emb)"
   ]
  },
  {
   "cell_type": "code",
   "execution_count": null,
   "id": "b845011c",
   "metadata": {},
   "outputs": [],
   "source": [
    "mark_cols = [c for c in X.columns if c.endswith(\"mark\")]"
   ]
  },
  {
   "cell_type": "code",
   "execution_count": null,
   "id": "7538d615",
   "metadata": {},
   "outputs": [],
   "source": [
    "plt.figure(figsize=(7,6))\n",
    "unique = np.unique(labels)\n",
    "for lab in unique:\n",
    "    mask = labels == lab\n",
    "    plt.scatter(emb[mask, 0], emb[mask, 1], s=12, label=f\"Cluster {lab}\" if lab!=-1 else \"Bruit (-1)\", alpha=0.8)\n",
    "plt.xlabel(\"UMAP-1\")\n",
    "plt.ylabel(\"UMAP-2\")\n",
    "plt.title('title')\n",
    "plt.legend(markerscale=1.5, fontsize=9, frameon=False)\n",
    "plt.tight_layout()\n",
    "plt.show()"
   ]
  },
  {
   "cell_type": "code",
   "execution_count": null,
   "id": "fc9f1ce4",
   "metadata": {},
   "outputs": [],
   "source": [
    "emails = df0['email']\n",
    "df_clusters = pd.DataFrame({\n",
    "    \"email\": emails,\n",
    "    \"UMAP1\": emb[:, 0],\n",
    "    \"UMAP2\": emb[:, 1],\n",
    "    \"cluster\": labels\n",
    "})\n",
    "df_clusters['mark'] = df0[mark_cols].mean(axis=1)"
   ]
  },
  {
   "cell_type": "code",
   "execution_count": null,
   "id": "f0bf11c8",
   "metadata": {},
   "outputs": [],
   "source": [
    "import sqlite3\n",
    "\n",
    "db_path = root / \"data/clusters_umap.db\"\n",
    "table_name = \"clusters\"\n",
    "conn = sqlite3.connect(db_path)\n",
    "df_clusters.to_sql(table_name, conn, if_exists=\"replace\", index=False)\n",
    "\n",
    "# (Optionnel) index SQL pour accélérer les requêtes par email\n",
    "conn.execute(f\"CREATE INDEX IF NOT EXISTS idx_{table_name}_email ON {table_name}(email);\")\n",
    "conn.commit()"
   ]
  },
  {
   "cell_type": "code",
   "execution_count": null,
   "id": "e3b8c78e",
   "metadata": {},
   "outputs": [],
   "source": [
    "from IPython.display import FileLink\n",
    "\n",
    "df_clusters.to_csv(\"/data/DATA_proj.csv\", index=False, encoding=\"utf-8\")\n",
    "FileLink(\"/data/DATA_proj.csv\")"
   ]
  },
  {
   "cell_type": "code",
   "execution_count": null,
   "id": "8520a854",
   "metadata": {},
   "outputs": [],
   "source": [
    "df1 = load_and_preprocess_data(root / \"data/DATA.csv\", 24)"
   ]
  },
  {
   "cell_type": "code",
   "execution_count": null,
   "id": "520a3696",
   "metadata": {},
   "outputs": [],
   "source": [
    "def SPCI_lg_to_set(G, threshold):\n",
    "    L, U = G\n",
    "    if U < threshold:\n",
    "        return [1]\n",
    "    elif L > threshold:\n",
    "        return [0]\n",
    "    else:\n",
    "        return [0,1]"
   ]
  },
  {
   "cell_type": "code",
   "execution_count": null,
   "id": "ee7612e2",
   "metadata": {},
   "outputs": [],
   "source": [
    "mod = joblib.load(root / \"models\" / \"models_SPCI_lg_24.joblib\")\n",
    "mod.keys()"
   ]
  },
  {
   "cell_type": "code",
   "execution_count": null,
   "id": "57a82733",
   "metadata": {},
   "outputs": [],
   "source": []
  },
  {
   "cell_type": "code",
   "execution_count": null,
   "id": "5c434243",
   "metadata": {},
   "outputs": [],
   "source": []
  },
  {
   "cell_type": "code",
   "execution_count": null,
   "id": "abd1f536",
   "metadata": {},
   "outputs": [],
   "source": [
    "\n",
    "mod_SPCI = joblib.load(root / \"models\" / \"models_SPCI_lg_24.joblib\")\n",
    "mod_comb = joblib.load(root / \"models\" / \"models_comb1_24.joblib\")\n",
    "mod_CP = joblib.load(root / \"models\" / \"models_clustering_24.joblib\")"
   ]
  },
  {
   "cell_type": "code",
   "execution_count": null,
   "id": "c45ba8e7",
   "metadata": {},
   "outputs": [],
   "source": [
    "mod_comb.keys()"
   ]
  },
  {
   "cell_type": "code",
   "execution_count": null,
   "id": "c3319b61",
   "metadata": {},
   "outputs": [],
   "source": [
    "y_true_arr = np.asarray(y_true).ravel().astype(int)\n",
    "alpha = 0.1\n",
    "max_N = 22\n",
    "\n",
    "for base_model in ['GB']:\n",
    "    for n in tqdm(range(1, max_N)):\n",
    "        key = (base_model, n, \"vanilla\")\n",
    "        X_CP = build_X_s(df2.fillna(0), prefixes, static_cols, n)\n",
    "        model_CP = mod_CP[key]\n",
    "        yp_van, yps_van = model_CP.predict(X_CP, alpha=alpha)  # partition=df2['clusters'])\n",
    "        pset_van = yps_van[:, :, 0].astype(bool)\n",
    "        cov = classification_coverage_score(y_true_arr, pset_van)\n",
    "        wid = classification_mean_width_score(pset_van)\n",
    "        covs[(base_model, n)] = cov\n",
    "        wids[(base_model, n)] = wid\n",
    "        if n <= w2:\n",
    "            print(f\"n={n:2d} | MCP: cov={cov:.3f}, wid={wid:.3f} | \")\n",
    "        # Prédictions SPCI et combinées pour n > w2\n",
    "        if n > w2: ## BELEK INDEX\n",
    "            # Prédictions SPCI\n",
    "            model_SPCI = mod_SPCI[n]\n",
    "            X_SPCI = X_arr[n - w2]  # Ajustement de l'index comme dans train_combined_models\n",
    "            intervals = np.array([model_SPCI.predict_interval(x) for x in X_SPCI], dtype=float)\n",
    "            pset_spci = to_bool2_from_spci_intervals(intervals, threshold)\n",
    "            cov_spci = classification_coverage_score(y_true_arr, pset_spci)\n",
    "            wid_spci = classification_mean_width_score(pset_spci)\n",
    "            covs_spci[(base_model, n)] = cov_spci\n",
    "            wids_spci[(base_model, n)] = wid_spci\n",
    "            \n",
    "            # Prédictions combinées avec le modèle gate\n",
    "            gate_model = mod_comb[(base_model, n)]\n",
    "            \n",
    "            # Calcul des features pour le gate (comme dans train_combined_models)\n",
    "            w_cls = pset_van.sum(axis=1)  # Largeur des prédictions MCP\n",
    "            w_spc = pset_spci.sum(axis=1)  # Largeur des prédictions SPCI\n",
    "            diff = w_cls - w_spc\n",
    "            \n",
    "            # Construction de X_gate avec les mêmes features que lors de l'entraînement\n",
    "            meta_features = np.column_stack([w_cls, w_spc, diff])\n",
    "            X_gate = np.hstack([X_CP, meta_features])\n",
    "            \n",
    "            # Prédiction du gate : 0=MCP, 1=SPCI, 2=union\n",
    "            gate_preds = gate_model.predict(X_gate)\n",
    "            \n",
    "            # Construction des prediction sets combinés\n",
    "            pset_combined = np.zeros_like(pset_van, dtype=bool)\n",
    "            \n",
    "            for i in range(len(gate_preds)):\n",
    "                if gate_preds[i] == 0:  # Utiliser MCP\n",
    "                    pset_combined[i] = pset_van[i]\n",
    "                elif gate_preds[i] == 1:  # Utiliser SPCI\n",
    "                    pset_combined[i] = pset_spci[i]\n",
    "                else:  # gate_preds[i] == 2, utiliser l'union\n",
    "                    pset_combined[i] = pset_van[i] | pset_spci[i]\n",
    "            \n",
    "            # Calcul des métriques pour le modèle combiné\n",
    "            cov_comb = classification_coverage_score(y_true_arr, pset_combined)\n",
    "            wid_comb = classification_mean_width_score(pset_combined)\n",
    "            covs_comb[(base_model, n)] = cov_comb\n",
    "            wids_comb[(base_model, n)] = wid_comb\n",
    "            \n",
    "            # Affichage optionnel des résultats\n",
    "            print(f\"n={n:2d} | MCP: cov={cov:.3f}, wid={wid:.3f} | \"\n",
    "                  f\"SPCI: cov={cov_spci:.3f}, wid={wid_spci:.3f} | \"\n",
    "                  f\"Comb: cov={cov_comb:.3f}, wid={wid_comb:.3f}\")\n",
    "            \n",
    "            # Statistiques sur les décisions du gate\n",
    "            gate_choices, gate_counts = np.unique(gate_preds, return_counts=True)"
   ]
  },
  {
   "cell_type": "code",
   "execution_count": null,
   "id": "c53fcc78",
   "metadata": {},
   "outputs": [],
   "source": [
    "intervals"
   ]
  },
  {
   "cell_type": "code",
   "execution_count": null,
   "id": "9d6a9059",
   "metadata": {},
   "outputs": [],
   "source": [
    "covs_spci"
   ]
  },
  {
   "cell_type": "code",
   "execution_count": null,
   "id": "958ddc3b",
   "metadata": {},
   "outputs": [],
   "source": [
    "covs_comb"
   ]
  },
  {
   "cell_type": "code",
   "execution_count": null,
   "id": "65b18153",
   "metadata": {},
   "outputs": [],
   "source": [
    "mod_comb[('GB', 15)].n_features_in_ "
   ]
  },
  {
   "cell_type": "code",
   "execution_count": null,
   "id": "810e2303",
   "metadata": {},
   "outputs": [],
   "source": [
    "mod_CP.keys()"
   ]
  },
  {
   "cell_type": "code",
   "execution_count": null,
   "id": "ff88acab",
   "metadata": {},
   "outputs": [],
   "source": [
    "mod_SPCI.keys()"
   ]
  },
  {
   "cell_type": "code",
   "execution_count": null,
   "id": "94a01055",
   "metadata": {},
   "outputs": [],
   "source": [
    "mod_comb.keys()"
   ]
  },
  {
   "cell_type": "code",
   "execution_count": null,
   "id": "cff6a289",
   "metadata": {},
   "outputs": [],
   "source": [
    "k = 16\n",
    "print(build_X_s(df2.fillna(0), prefixes, static_cols, k).shape[1], mod_comb[('GB', k)].n_features_in_ )"
   ]
  },
  {
   "cell_type": "code",
   "execution_count": null,
   "id": "165a7fc2",
   "metadata": {},
   "outputs": [],
   "source": [
    "# df1 = df1.set_index('email')\n",
    "df_tr_pred =  pd.merge(df0, preds_GB, on=\"email\", how=\"inner\")"
   ]
  },
  {
   "cell_type": "code",
   "execution_count": null,
   "id": "bd1639d1",
   "metadata": {},
   "outputs": [],
   "source": [
    "df_tr_pred"
   ]
  },
  {
   "cell_type": "code",
   "execution_count": null,
   "id": "aae58e88",
   "metadata": {},
   "outputs": [],
   "source": [
    "\n",
    "from IPython.display import FileLink\n",
    "\n",
    "df_tr_pred.to_csv(\"/data/DATA_2024_pred.csv\", index=False, encoding=\"utf-8\")\n",
    "FileLink(\"/data/DATA_2024_pred.csv\")"
   ]
  },
  {
   "cell_type": "code",
   "execution_count": null,
   "id": "85b9a3d2",
   "metadata": {},
   "outputs": [],
   "source": [
    "preds_GB.head(20)\n",
    "# preds_all.head()"
   ]
  },
  {
   "cell_type": "code",
   "execution_count": null,
   "id": "72fe0430",
   "metadata": {},
   "outputs": [],
   "source": [
    "covs"
   ]
  },
  {
   "cell_type": "code",
   "execution_count": null,
   "id": "219369ad",
   "metadata": {},
   "outputs": [],
   "source": [
    "wids"
   ]
  },
  {
   "cell_type": "code",
   "execution_count": null,
   "id": "da4a9d22",
   "metadata": {},
   "outputs": [],
   "source": [
    "df3 = pd.read_csv(root / \"data/DATA_SPCI_ng_24.csv\")"
   ]
  },
  {
   "cell_type": "code",
   "execution_count": null,
   "id": "28828e35",
   "metadata": {},
   "outputs": [],
   "source": [
    "import numpy as np\n",
    "from utils.models_production_utils import build_X_s\n",
    "\n",
    "def gate_predict_minimal(\n",
    "    dataframe, X_arr, n, base_model,\n",
    "    models_c_ng, models_lg, models_comb,\n",
    "    threshold, w2, prefixes, static_cols,\n",
    "    alpha=0.05, partition=None  # partition=df['clusters'] si Mondrian\n",
    "):\n",
    "    \"\"\"\n",
    "    Renvoie:\n",
    "      - p_final: bool array (n_samples, 2)  -> p-set final (après gate)\n",
    "      - choice: int array (0=MCP, 1=SPCI, 2=union)\n",
    "      - y_hat: int array -> 0/1 si singleton, -1 si ambigu (union des deux)\n",
    "    \"\"\"\n",
    "    # 1) Features pour chaque “branche”\n",
    "    X_CP = build_X_s(dataframe, prefixes, static_cols, n)      # mêmes colonnes/ordre qu’à l’entraînement\n",
    "    idx_spci = n - w2\n",
    "    X_SPCI = X_arr[idx_spci]\n",
    "\n",
    "    # 2) Récupérer les modèles\n",
    "    key_mcp = (base_model, n, \"vanilla\")  # ou \"mondrian\" si vous avez entraîné comme tel\n",
    "    model_mcp = models_c_ng[key_mcp]\n",
    "    model_spc = models_lg[n]\n",
    "    gate = models_comb[(base_model, n)]\n",
    "\n",
    "    # 3) p-sets MCP via MAPIE\n",
    "    if partition is None:\n",
    "        y_pred_mcp_gate, yps_mcp_gate = model_mcp.predict(X_CP, alpha=alpha)\n",
    "    else:\n",
    "        y_pred_mcp_gate, yps_mcp_gate = model_mcp.predict(X_CP, alpha=alpha, partition=partition)\n",
    "    p_mcp = yps_mcp_gate[:, :, 0].astype(bool)  # (n_samples, 2)\n",
    "\n",
    "    # 4) p-sets SPCI à partir des intervalles [L,U] et du threshold\n",
    "    intervals = np.array([model_spc.predict_interval(x) for x in X_SPCI], dtype=float)\n",
    "    L_cal = intervals[:, 0]\n",
    "    U_cal = intervals[:, 1]\n",
    "    p_spc = np.zeros_like(p_mcp, dtype=bool)\n",
    "    p_spc[threshold < L_cal, 0] = True\n",
    "    p_spc[threshold > U_cal, 1] = True\n",
    "    amb = ~( (threshold < L_cal) | (threshold > U_cal) )\n",
    "    p_spc[amb, :] = True  # ambigu → {0,1}\n",
    "\n",
    "    # 5) Features pour la gate (mêmes que training): X_CP + [w_cls, w_spc, diff]\n",
    "    w_cls = p_mcp.sum(axis=1)\n",
    "    w_spc = p_spc.sum(axis=1)\n",
    "    diff = w_cls - w_spc\n",
    "    X_gate = np.hstack([X_CP, w_cls.reshape(-1,1), w_spc.reshape(-1,1), diff.reshape(-1,1)])\n",
    "\n",
    "    # 6) Décision de la gate: 0=MCP, 1=SPCI, 2=union\n",
    "    choice = gate.predict(X_gate)\n",
    "\n",
    "    # 7) Composer le p-set final selon la gate\n",
    "    p_final = np.empty_like(p_mcp, dtype=bool)\n",
    "    use_mcp = (choice == 0)\n",
    "    use_spc = (choice == 1)\n",
    "    use_uni = (choice == 2)\n",
    "    p_final[use_mcp] = p_mcp[use_mcp]\n",
    "    p_final[use_spc] = p_spc[use_spc]\n",
    "    p_final[use_uni] = (p_mcp[use_uni] | p_spc[use_uni])\n",
    "\n",
    "    # 8) Étiquette ponctuelle minimale: 0/1 si singleton, sinon -1 (ambigu)\n",
    "    singletons = (p_final.sum(axis=1) == 1)\n",
    "    y_hat = np.where(singletons, p_final.argmax(axis=1), -1)\n",
    "\n",
    "    return {\n",
    "        \"p_final\": p_final,   # bools shape (n_samples, 2)\n",
    "        \"choice\": choice,     # 0/1/2\n",
    "        \"y_hat\": y_hat        # 0/1 ou -1 si ambigu\n",
    "    }\n"
   ]
  },
  {
   "cell_type": "code",
   "execution_count": null,
   "id": "a05bb5c6",
   "metadata": {},
   "outputs": [],
   "source": [
    "root = Path(os.getcwd()).parent"
   ]
  },
  {
   "cell_type": "code",
   "execution_count": null,
   "id": "aef5a2f9",
   "metadata": {},
   "outputs": [],
   "source": [
    "obj = joblib.load(root / \"models\" / \"models_clustering_24.joblib\")"
   ]
  },
  {
   "cell_type": "code",
   "execution_count": null,
   "id": "2c56be72",
   "metadata": {},
   "outputs": [],
   "source": [
    "obj2 = joblib.load(root / \"models\" / \"models_clustering_SPCI_ng_24.joblib\")"
   ]
  },
  {
   "cell_type": "code",
   "execution_count": null,
   "id": "60e8e5d4",
   "metadata": {},
   "outputs": [],
   "source": [
    "type(obj2)"
   ]
  },
  {
   "cell_type": "code",
   "execution_count": null,
   "id": "872c23df",
   "metadata": {},
   "outputs": [],
   "source": [
    "obj2.keys()"
   ]
  },
  {
   "cell_type": "code",
   "execution_count": null,
   "id": "a84a3566",
   "metadata": {},
   "outputs": [],
   "source": [
    "df3 = pd.read_csv(root / \"data/DATA_SPCI_ng_24.csv\")\n",
    "df3"
   ]
  },
  {
   "cell_type": "code",
   "execution_count": null,
   "id": "ad8a55f1",
   "metadata": {},
   "outputs": [],
   "source": [
    "df = pd.read_csv(root / \"data/DATA.csv\")\n",
    "nb_nan_par_ligne = df.isna().sum(axis=1)\n",
    "\n",
    "df = df[nb_nan_par_ligne < 495]"
   ]
  },
  {
   "cell_type": "code",
   "execution_count": null,
   "id": "a7d47d7f",
   "metadata": {},
   "outputs": [],
   "source": [
    "len(df)"
   ]
  },
  {
   "cell_type": "code",
   "execution_count": null,
   "id": "2b62e56f",
   "metadata": {},
   "outputs": [],
   "source": [
    "def build_X_s(df_sub: pd.DataFrame, prefixes: list, static_cols: list, n: int) -> np.ndarray:\n",
    "    # on garde student_id + les n premiers items\n",
    "    dyn_cols = [\n",
    "    col for col in df_sub.columns\n",
    "    if any(col.startswith(pref) for pref in prefixes[:n])\n",
    "    ]\n",
    "    keep = [\"email\"] + static_cols + dyn_cols\n",
    "    return df_sub[keep].set_index(\"email\").values"
   ]
  },
  {
   "cell_type": "code",
   "execution_count": null,
   "id": "79746372",
   "metadata": {},
   "outputs": [],
   "source": [
    "mark_cols = [c for c in df.columns if c.endswith(\"mark\")]\n",
    "prefixes = list(dict.fromkeys(c.rsplit(\"_\",1)[0] for c in mark_cols))\n",
    "static_cols = []"
   ]
  },
  {
   "cell_type": "code",
   "execution_count": null,
   "id": "d1b3fa81",
   "metadata": {},
   "outputs": [],
   "source": [
    "X = build_X_s(df.fillna(0), prefixes, static_cols, 3)"
   ]
  },
  {
   "cell_type": "code",
   "execution_count": null,
   "id": "8128222e",
   "metadata": {},
   "outputs": [],
   "source": [
    "dfcpool = df[[c for c in df.columns if c.startswith(\"B-CPE-100\")]]\n",
    "pat = re.compile(r\"B-CPE-100_cpoolday\\d+_\\d{2} - task\\d+_passed\")\n",
    "cols_keep = [c for c in dfcpool.columns if not pat.match(c)]\n",
    "dfcpool_mark = dfcpool[cols_keep]\n",
    "X_pool = dfcpool_mark.fillna(0)"
   ]
  },
  {
   "cell_type": "code",
   "execution_count": null,
   "id": "2595d2c9",
   "metadata": {},
   "outputs": [],
   "source": [
    "df2, info = cluster_with_min_size(\n",
    "    df, X_pool, n_clusters=4, min_cluster_size=50, random_state=42)"
   ]
  },
  {
   "cell_type": "code",
   "execution_count": null,
   "id": "74bf1cbd",
   "metadata": {},
   "outputs": [],
   "source": [
    "res = []\n",
    "for n in range(1, 16):\n",
    "    mod = obj2[('GB', n, 'vanilla')]\n",
    "    X = build_X_s(df2.fillna(0), prefixes, static_cols, n)\n",
    "    yp_van, yps_van = mod.predict(X, alpha=0.1) # partition=df2['clusters'])\n",
    "    pset_van = yps_van[:, :, 0]\n",
    "    print(classification_mean_width_score(pset_van))\n",
    "    res.append(classification_mean_width_score(pset_van))\n",
    "print(\"moy\", np.mean(res))"
   ]
  },
  {
   "cell_type": "code",
   "execution_count": null,
   "id": "9ef77dd3",
   "metadata": {},
   "outputs": [],
   "source": [
    "redoublants = [\n",
    "    \"vondandamo\",\n",
    "    \"beugre lupetu kamba\",\n",
    "    \"abdallah\",\n",
    "    \"ramirez\",\n",
    "    \"essonghe\",\n",
    "    \"haye\",\n",
    "    \"mezou\",\n",
    "    \"rocagel\",\n",
    "    \"rakrouki\",\n",
    "    \"tchakal\",\n",
    "    \"galloo\",\n",
    "    \"fougere\",\n",
    "    \"fillon\",\n",
    "    \"henine\",\n",
    "    \"angibaud\",\n",
    "    \"marechal\",\n",
    "    \"frotin\",\n",
    "    \"eyraud\"\n",
    "]\n",
    "\n",
    "df0.head()"
   ]
  },
  {
   "cell_type": "code",
   "execution_count": null,
   "id": "55d71093",
   "metadata": {},
   "outputs": [],
   "source": [
    "from IPython.display import FileLink\n",
    "\n",
    "mark_cols = [c for c in df0.columns if c.endswith(\"mark\")]\n",
    "df_redoublants = df0[df0['email'].str.split(\".\").str[1].str.split(\"@\").str[0].isin(redoublants)][mark_cols]\n",
    "\n",
    "df_redoublants.to_csv(root /\"/data/grades_redoublants.csv\", index=False, encoding=\"utf-8\")\n",
    "FileLink(\"/data/grades_redoublants.csv\")"
   ]
  },
  {
   "cell_type": "code",
   "execution_count": null,
   "id": "f04209dc",
   "metadata": {},
   "outputs": [],
   "source": [
    "for redoublant in redoublants:\n",
    "    for eleve in df0['email'].str.split(\".\").str[1].str.split(\"@\").str[0]:\n",
    "        if redoublant == eleve:\n",
    "            print(eleve)"
   ]
  }
 ],
 "metadata": {
  "kernelspec": {
   "display_name": "Python 3",
   "language": "python",
   "name": "python3"
  },
  "language_info": {
   "codemirror_mode": {
    "name": "ipython",
    "version": 3
   },
   "file_extension": ".py",
   "mimetype": "text/x-python",
   "name": "python",
   "nbconvert_exporter": "python",
   "pygments_lexer": "ipython3",
   "version": "3.13.2"
  }
 },
 "nbformat": 4,
 "nbformat_minor": 5
}
