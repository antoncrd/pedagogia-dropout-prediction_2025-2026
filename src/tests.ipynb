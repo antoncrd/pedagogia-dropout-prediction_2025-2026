{
 "cells": [
  {
   "cell_type": "code",
   "execution_count": 44,
   "id": "9ae3afca",
   "metadata": {},
   "outputs": [],
   "source": [
    "import pandas as pd\n",
    "from pathlib import Path\n",
    "import os\n",
    "import joblib\n",
    "import numpy as np\n",
    "from mapie.metrics import (\n",
    "    classification_coverage_score,\n",
    "    classification_mean_width_score\n",
    ")\n",
    "import re"
   ]
  },
  {
   "cell_type": "code",
   "execution_count": 36,
   "id": "90d6a618",
   "metadata": {},
   "outputs": [
    {
     "name": "stderr",
     "output_type": "stream",
     "text": [
      "c:\\Users\\Anton CONRAD\\AppData\\Local\\Programs\\Python\\Python313\\Lib\\site-packages\\tqdm\\auto.py:21: TqdmWarning: IProgress not found. Please update jupyter and ipywidgets. See https://ipywidgets.readthedocs.io/en/stable/user_install.html\n",
      "  from .autonotebook import tqdm as notebook_tqdm\n"
     ]
    }
   ],
   "source": [
    "from utils.model_production_data_processing_utils import cluster_with_min_size"
   ]
  },
  {
   "cell_type": "code",
   "execution_count": 3,
   "id": "a05bb5c6",
   "metadata": {},
   "outputs": [],
   "source": [
    "root = Path(os.getcwd()).parent"
   ]
  },
  {
   "cell_type": "code",
   "execution_count": 4,
   "id": "aef5a2f9",
   "metadata": {},
   "outputs": [],
   "source": [
    "obj = joblib.load(root / \"models\" / \"models_clustering_24.joblib\")"
   ]
  },
  {
   "cell_type": "code",
   "execution_count": 66,
   "id": "2c56be72",
   "metadata": {},
   "outputs": [],
   "source": [
    "obj2 = joblib.load(root / \"models\" / \"models_clustering_SPCI_ng_24.joblib\")"
   ]
  },
  {
   "cell_type": "code",
   "execution_count": 67,
   "id": "60e8e5d4",
   "metadata": {},
   "outputs": [
    {
     "data": {
      "text/plain": [
       "dict"
      ]
     },
     "execution_count": 67,
     "metadata": {},
     "output_type": "execute_result"
    }
   ],
   "source": [
    "type(obj2)"
   ]
  },
  {
   "cell_type": "code",
   "execution_count": 68,
   "id": "872c23df",
   "metadata": {},
   "outputs": [
    {
     "data": {
      "text/plain": [
       "dict_keys([('RF', 1, 'vanilla'), ('RF', 1, 'mondrian'), ('RF', 2, 'vanilla'), ('RF', 2, 'mondrian'), ('RF', 3, 'vanilla'), ('RF', 3, 'mondrian'), ('RF', 4, 'vanilla'), ('RF', 4, 'mondrian'), ('RF', 5, 'vanilla'), ('RF', 5, 'mondrian'), ('RF', 6, 'vanilla'), ('RF', 6, 'mondrian'), ('RF', 7, 'vanilla'), ('RF', 7, 'mondrian'), ('RF', 8, 'vanilla'), ('RF', 8, 'mondrian'), ('RF', 9, 'vanilla'), ('RF', 9, 'mondrian'), ('RF', 10, 'vanilla'), ('RF', 10, 'mondrian'), ('RF', 11, 'vanilla'), ('RF', 11, 'mondrian'), ('RF', 12, 'vanilla'), ('RF', 12, 'mondrian'), ('RF', 13, 'vanilla'), ('RF', 13, 'mondrian'), ('RF', 14, 'vanilla'), ('RF', 14, 'mondrian'), ('RF', 15, 'vanilla'), ('RF', 15, 'mondrian'), ('RF', 16, 'vanilla'), ('RF', 16, 'mondrian'), ('RF', 17, 'vanilla'), ('RF', 17, 'mondrian'), ('RF', 18, 'vanilla'), ('RF', 18, 'mondrian'), ('RF', 19, 'vanilla'), ('RF', 19, 'mondrian'), ('RF', 20, 'vanilla'), ('RF', 20, 'mondrian'), ('RF', 21, 'vanilla'), ('RF', 21, 'mondrian'), ('RF', 22, 'vanilla'), ('RF', 22, 'mondrian'), ('RF', 23, 'vanilla'), ('RF', 23, 'mondrian'), ('RF', 24, 'vanilla'), ('RF', 24, 'mondrian'), ('RF', 25, 'vanilla'), ('RF', 25, 'mondrian'), ('GB', 1, 'vanilla'), ('GB', 1, 'mondrian'), ('GB', 2, 'vanilla'), ('GB', 2, 'mondrian'), ('GB', 3, 'vanilla'), ('GB', 3, 'mondrian'), ('GB', 4, 'vanilla'), ('GB', 4, 'mondrian'), ('GB', 5, 'vanilla'), ('GB', 5, 'mondrian'), ('GB', 6, 'vanilla'), ('GB', 6, 'mondrian'), ('GB', 7, 'vanilla'), ('GB', 7, 'mondrian'), ('GB', 8, 'vanilla'), ('GB', 8, 'mondrian'), ('GB', 9, 'vanilla'), ('GB', 9, 'mondrian'), ('GB', 10, 'vanilla'), ('GB', 10, 'mondrian'), ('GB', 11, 'vanilla'), ('GB', 11, 'mondrian'), ('GB', 12, 'vanilla'), ('GB', 12, 'mondrian'), ('GB', 13, 'vanilla'), ('GB', 13, 'mondrian'), ('GB', 14, 'vanilla'), ('GB', 14, 'mondrian'), ('GB', 15, 'vanilla'), ('GB', 15, 'mondrian'), ('GB', 16, 'vanilla'), ('GB', 16, 'mondrian'), ('GB', 17, 'vanilla'), ('GB', 17, 'mondrian'), ('GB', 18, 'vanilla'), ('GB', 18, 'mondrian'), ('GB', 19, 'vanilla'), ('GB', 19, 'mondrian'), ('GB', 20, 'vanilla'), ('GB', 20, 'mondrian'), ('GB', 21, 'vanilla'), ('GB', 21, 'mondrian'), ('GB', 22, 'vanilla'), ('GB', 22, 'mondrian'), ('GB', 23, 'vanilla'), ('GB', 23, 'mondrian'), ('GB', 24, 'vanilla'), ('GB', 24, 'mondrian'), ('GB', 25, 'vanilla'), ('GB', 25, 'mondrian')])"
      ]
     },
     "execution_count": 68,
     "metadata": {},
     "output_type": "execute_result"
    }
   ],
   "source": [
    "obj2.keys()"
   ]
  },
  {
   "cell_type": "code",
   "execution_count": 47,
   "id": "ad8a55f1",
   "metadata": {},
   "outputs": [],
   "source": [
    "df = pd.read_csv(root / \"data/DATA.csv\")\n",
    "nb_nan_par_ligne = df.isna().sum(axis=1)\n",
    "\n",
    "df = df[nb_nan_par_ligne < 495]"
   ]
  },
  {
   "cell_type": "code",
   "execution_count": 48,
   "id": "2b62e56f",
   "metadata": {},
   "outputs": [],
   "source": [
    "def build_X_s(df_sub: pd.DataFrame, prefixes: list, static_cols: list, n: int) -> np.ndarray:\n",
    "    # on garde student_id + les n premiers items\n",
    "    dyn_cols = [\n",
    "    col for col in df_sub.columns\n",
    "    if any(col.startswith(pref) for pref in prefixes[:n])\n",
    "    ]\n",
    "    keep = [\"email\"] + static_cols + dyn_cols\n",
    "    return df_sub[keep].set_index(\"email\").values"
   ]
  },
  {
   "cell_type": "code",
   "execution_count": 49,
   "id": "79746372",
   "metadata": {},
   "outputs": [],
   "source": [
    "mark_cols = [c for c in df.columns if c.endswith(\"mark\")]\n",
    "prefixes = list(dict.fromkeys(c.rsplit(\"_\",1)[0] for c in mark_cols))\n",
    "static_cols = []"
   ]
  },
  {
   "cell_type": "code",
   "execution_count": 75,
   "id": "d1b3fa81",
   "metadata": {},
   "outputs": [],
   "source": [
    "X = build_X_s(df.fillna(0), prefixes, static_cols, 3)"
   ]
  },
  {
   "cell_type": "code",
   "execution_count": 76,
   "id": "8128222e",
   "metadata": {},
   "outputs": [],
   "source": [
    "dfcpool = df[[c for c in df.columns if c.startswith(\"B-CPE-100\")]]\n",
    "pat = re.compile(r\"B-CPE-100_cpoolday\\d+_\\d{2} - task\\d+_passed\")\n",
    "cols_keep = [c for c in dfcpool.columns if not pat.match(c)]\n",
    "dfcpool_mark = dfcpool[cols_keep]\n",
    "X_pool = dfcpool_mark.fillna(0)"
   ]
  },
  {
   "cell_type": "code",
   "execution_count": 77,
   "id": "2595d2c9",
   "metadata": {},
   "outputs": [
    {
     "name": "stdout",
     "output_type": "stream",
     "text": [
      "DF plain + clustering done\n",
      "nombre d'élèves par cluster :\n",
      "0    117\n",
      "1    490\n",
      "2     30\n",
      "3    213\n",
      "Name: count, dtype: int64\n",
      "Clusters trop petits à réaffecter : [2]\n",
      "Nouvelles tailles de clusters :\n",
      "0    117\n",
      "1    490\n",
      "3    243\n",
      "Name: count, dtype: int64\n"
     ]
    }
   ],
   "source": [
    "df2, info = cluster_with_min_size(\n",
    "    df, X_pool, n_clusters=4, min_cluster_size=50, random_state=42)"
   ]
  },
  {
   "cell_type": "code",
   "execution_count": 90,
   "id": "74bf1cbd",
   "metadata": {},
   "outputs": [
    {
     "name": "stdout",
     "output_type": "stream",
     "text": [
      "1.391764705882353\n",
      "1.4823529411764707\n",
      "1.3541176470588234\n",
      "1.3741176470588234\n",
      "1.3858823529411766\n",
      "1.596470588235294\n",
      "1.6258823529411766\n",
      "1.5294117647058822\n",
      "1.531764705882353\n",
      "1.5541176470588236\n",
      "1.5411764705882354\n",
      "1.591764705882353\n",
      "1.3952941176470588\n",
      "1.3976470588235295\n",
      "1.3529411764705883\n",
      "moy 1.4736470588235295\n"
     ]
    }
   ],
   "source": [
    "res = []\n",
    "for n in range(1, 16):\n",
    "    mod = obj2[('GB', n, 'vanilla')]\n",
    "    X = build_X_s(df2.fillna(0), prefixes, static_cols, n)\n",
    "    yp_van, yps_van = mod.predict(X, alpha=0.1) # partition=df2['clusters'])\n",
    "    pset_van = yps_van[:, :, 0]\n",
    "    print(classification_mean_width_score(pset_van))\n",
    "    res.append(classification_mean_width_score(pset_van))\n",
    "print(\"moy\", np.mean(res))"
   ]
  },
  {
   "cell_type": "code",
   "execution_count": null,
   "id": "aafcdfb8",
   "metadata": {},
   "outputs": [],
   "source": [
    "df.head()"
   ]
  },
  {
   "cell_type": "code",
   "execution_count": null,
   "id": "96b7c60b",
   "metadata": {},
   "outputs": [],
   "source": [
    "col_series = df.drop(columns=['email']).columns.to_series()\n",
    "suffixes = col_series.apply(lambda x: x.split(\"_\")[1])\n",
    "ordered_suffixes = suffixes.unique()\n",
    "# 2) Groupement des colonnes par suffixe\n",
    "dfs = {}\n",
    "for suffix in ordered_suffixes:\n",
    "    cols_for_suffix = [c for c in col_series if c.split(\"_\")[1] == suffix]\n",
    "    subdf = df[cols_for_suffix].copy()\n",
    "    dfs[suffix] = subdf\n",
    "    if True:\n",
    "        print(f\"Suffixe = {suffix} → shape {subdf.shape}\")\n"
   ]
  },
  {
   "cell_type": "code",
   "execution_count": null,
   "id": "d0122c52",
   "metadata": {},
   "outputs": [],
   "source": [
    "n = 20  # nombre de colonnes à afficher\n",
    "print(df.isna().sum().sort_values(ascending=False).head(n))\n"
   ]
  }
 ],
 "metadata": {
  "kernelspec": {
   "display_name": "Python 3",
   "language": "python",
   "name": "python3"
  },
  "language_info": {
   "codemirror_mode": {
    "name": "ipython",
    "version": 3
   },
   "file_extension": ".py",
   "mimetype": "text/x-python",
   "name": "python",
   "nbconvert_exporter": "python",
   "pygments_lexer": "ipython3",
   "version": "3.13.2"
  }
 },
 "nbformat": 4,
 "nbformat_minor": 5
}
